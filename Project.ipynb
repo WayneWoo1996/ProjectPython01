{
 "cells": [
  {
   "cell_type": "markdown",
   "id": "35d90b74",
   "metadata": {},
   "source": [
    "# Project"
   ]
  },
  {
   "cell_type": "markdown",
   "id": "ed8c63e9",
   "metadata": {},
   "source": [
    "The dataset was obtained from this [link](https://www.kaggle.com/artempozdniakov/ukrainian-market-mobile-phones-data).\n",
    "\n",
    "The dataset set contains data about the mobile phones which were released in past few years and which can be bought in Ukraine."
   ]
  },
  {
   "cell_type": "markdown",
   "id": "6aeefb33",
   "metadata": {},
   "source": [
    "### **Data Dictionary**\n",
    "\n",
    "**ID** unique id for each row.\n",
    "\n",
    "**brand_name**\n",
    "The name of brand which manufactures the phone.\n",
    "\n",
    "**model_name**\n",
    "The name of phone's model.\n",
    "\n",
    "**os**\n",
    "The operating system of the phone.\n",
    "\n",
    "**popularity**\n",
    "The popularity of the phone in range 1-1224. 1224 is the most popular and 1 is least popular.\n",
    "\n",
    "**best_price**\n",
    "Best price of the price-range in Ukrainian hryvnias (UAH).\n",
    "\n",
    "**lowest_price**\n",
    "Lowest price of the price-range in Ukrainian hryvnias (UAH).\n",
    "\n",
    "**highest_price**\n",
    "Highest price of the price-range in Ukrainian hryvnias (UAH).\n",
    "\n",
    "**sellers_amount**\n",
    "The amount of sellers, who sale this phone.\n",
    "\n",
    "**screen_size**\n",
    "The size of phone's screen (inches).\n",
    "\n",
    "**memory_size**\n",
    "The size of phone's memory (GB).\n",
    "\n",
    "**battery_size**\n",
    "The size of phone's battery (mAh).\n",
    "\n",
    "**release_date**\n",
    "The year and month, when the phone was released."
   ]
  },
  {
   "cell_type": "code",
   "execution_count": null,
   "id": "beefde91",
   "metadata": {},
   "outputs": [],
   "source": [
    "import pandas as pd\n",
    "import numpy as np\n",
    "import matplotlib.pyplot as plt\n",
    "%matplotlib inline"
   ]
  },
  {
   "cell_type": "code",
   "execution_count": null,
   "id": "8e019a99",
   "metadata": {},
   "outputs": [],
   "source": [
    "phone= pd.read_csv(\"phones_data.csv\")"
   ]
  },
  {
   "cell_type": "code",
   "execution_count": null,
   "id": "983d58e5",
   "metadata": {},
   "outputs": [],
   "source": [
    "phone.shape"
   ]
  },
  {
   "cell_type": "code",
   "execution_count": null,
   "id": "e5f3aadf",
   "metadata": {
    "scrolled": false
   },
   "outputs": [],
   "source": [
    "phone.head()"
   ]
  },
  {
   "cell_type": "code",
   "execution_count": null,
   "id": "94500665",
   "metadata": {},
   "outputs": [],
   "source": [
    "#rename the First colunm \"Unnamed: 0\" name to \"ID\"\n",
    "phone.rename(columns={\"Unnamed: 0\":\"ID\"}, inplace=True)\n",
    "phone.head(5)"
   ]
  },
  {
   "cell_type": "code",
   "execution_count": null,
   "id": "ee88e005",
   "metadata": {},
   "outputs": [],
   "source": [
    "#set the ID colunm as index\n",
    "phone.set_index(\"ID\", inplace=True)\n",
    "phone[[\"os\"]].head()"
   ]
  },
  {
   "cell_type": "code",
   "execution_count": null,
   "id": "c008642c",
   "metadata": {
    "scrolled": true
   },
   "outputs": [],
   "source": [
    "phone.dtypes"
   ]
  },
  {
   "cell_type": "code",
   "execution_count": null,
   "id": "45141909",
   "metadata": {},
   "outputs": [],
   "source": [
    "#changing release date to datetime\n",
    "phone[\"release_date\"] = pd.to_datetime(phone[\"release_date\"])\n",
    "#run this cell and run back again above cell to check type of date has changed"
   ]
  },
  {
   "cell_type": "code",
   "execution_count": null,
   "id": "7fc09de8",
   "metadata": {},
   "outputs": [],
   "source": [
    "#create a new column of release year by extract the year from release date\n",
    "phone[\"release_year\"] = pd.DatetimeIndex(phone[\"release_date\"]).year\n",
    "phone[\"release_year\"]"
   ]
  },
  {
   "cell_type": "code",
   "execution_count": null,
   "id": "0709b7e6",
   "metadata": {
    "scrolled": false
   },
   "outputs": [],
   "source": [
    "#to see data summary of numeric values columns\n",
    "phone.describe()"
   ]
  },
  {
   "cell_type": "code",
   "execution_count": null,
   "id": "c92b8069",
   "metadata": {
    "scrolled": true
   },
   "outputs": [],
   "source": [
    "#to see info of string value columns\n",
    "phone.describe(include=['object'])"
   ]
  },
  {
   "cell_type": "markdown",
   "id": "054554ef",
   "metadata": {},
   "source": [
    "##  **Cleaning data**"
   ]
  },
  {
   "cell_type": "code",
   "execution_count": null,
   "id": "2f5e909e",
   "metadata": {},
   "outputs": [],
   "source": [
    "#to see phone got how many missing values for each column\n",
    "phone.isnull().sum()"
   ]
  },
  {
   "cell_type": "code",
   "execution_count": null,
   "id": "5ac85a72",
   "metadata": {
    "scrolled": true
   },
   "outputs": [],
   "source": [
    "phone[\"os\"].value_counts(dropna=False) "
   ]
  },
  {
   "cell_type": "code",
   "execution_count": null,
   "id": "69072374",
   "metadata": {},
   "outputs": [],
   "source": [
    "#drop the missing values\n",
    "phone.dropna(subset=[\"os\"], inplace=True)\n",
    "#run above cell again to check NAN have been drop"
   ]
  },
  {
   "cell_type": "code",
   "execution_count": null,
   "id": "10bbbeca",
   "metadata": {},
   "outputs": [],
   "source": [
    "#fill the missing values of lowest and highest with its columns' mean\n",
    "phone.fillna(value={\"lowest_price\": phone[\"lowest_price\"].mean()}, inplace=True)"
   ]
  },
  {
   "cell_type": "code",
   "execution_count": null,
   "id": "809f6256",
   "metadata": {},
   "outputs": [],
   "source": [
    "phone.fillna(value={\"highest_price\": phone[\"highest_price\"].mean()}, inplace=True)"
   ]
  },
  {
   "cell_type": "code",
   "execution_count": null,
   "id": "cbd9f8a5",
   "metadata": {
    "scrolled": true
   },
   "outputs": [],
   "source": [
    "phone"
   ]
  },
  {
   "cell_type": "code",
   "execution_count": null,
   "id": "f7fc5c17",
   "metadata": {},
   "outputs": [],
   "source": [
    "#round off both columns to 2 decimals place\n",
    "phone.round({\"lowest_price\":2, \"highest_price\":2})"
   ]
  },
  {
   "cell_type": "markdown",
   "id": "b91d747c",
   "metadata": {},
   "source": [
    "## **Use histogram to see the number of mobile phones release within the period of release date.**"
   ]
  },
  {
   "cell_type": "code",
   "execution_count": null,
   "id": "9f8103d7",
   "metadata": {
    "scrolled": true
   },
   "outputs": [],
   "source": [
    "phone[\"release_date\"].value_counts().sort_index()"
   ]
  },
  {
   "cell_type": "code",
   "execution_count": null,
   "id": "3c07ace5",
   "metadata": {},
   "outputs": [],
   "source": [
    "plt.hist(phone[\"release_date\"])\n",
    "plt.title(\"The Number of Phones Release For Each Year (2013-2021)\")"
   ]
  },
  {
   "cell_type": "markdown",
   "id": "d4002df4",
   "metadata": {},
   "source": [
    "## **To look at Phones' OS distribution by using Pie Chart**"
   ]
  },
  {
   "cell_type": "code",
   "execution_count": null,
   "id": "ea19bbfc",
   "metadata": {},
   "outputs": [],
   "source": [
    "#identify what data \"os\" column have\n",
    "phone[\"os\"].unique()"
   ]
  },
  {
   "cell_type": "code",
   "execution_count": null,
   "id": "648fa7c8",
   "metadata": {},
   "outputs": [],
   "source": [
    "phone[\"os\"].value_counts()"
   ]
  },
  {
   "cell_type": "code",
   "execution_count": null,
   "id": "7de97825",
   "metadata": {
    "scrolled": true
   },
   "outputs": [],
   "source": [
    "#to get the value for mainly Android and iOS while other will all put in Other_OS to \n",
    "#get more clearer pie chart\n",
    "Android = phone[phone[\"os\"]== \"Android\"].count()[2]\n",
    "iOS = phone[phone[\"os\"]== \"iOS\"].count()[2]\n",
    "Other_OS = phone[(phone[\"os\"]!= \"Android\") & (phone[\"os\"]!=\"iOS\")].count()[2]\n",
    "\n",
    "Android, iOS, Other_OS"
   ]
  },
  {
   "cell_type": "code",
   "execution_count": null,
   "id": "94ead19f",
   "metadata": {},
   "outputs": [],
   "source": [
    "plt.pie([Android, iOS, Other_OS],\n",
    "        labels=(\"Android\", \"iOS\", \"Other\"),\n",
    "        autopct= \"%.2f%%\", #2 decimals place with %\n",
    "       counterclock=False, #to clockwise\n",
    "       explode=(0.2,0,0)) #to slice Android part\n",
    "plt.title(\"Phones' OS Distribution\")"
   ]
  },
  {
   "cell_type": "markdown",
   "id": "e0a43d85",
   "metadata": {},
   "source": [
    "## **Use scatter plot to see the relationship between phones' popularity with number of sellers.**"
   ]
  },
  {
   "cell_type": "code",
   "execution_count": null,
   "id": "402d4265",
   "metadata": {
    "scrolled": true
   },
   "outputs": [],
   "source": [
    "phone.plot(kind=\"scatter\", x=\"popularity\", y=\"sellers_amount\")\n",
    "plt.title(\"Relationship between Phone's Popularity with Number of Phone Sellers\")\n",
    "#Not much related but still can see few positive relationship between this two variables"
   ]
  },
  {
   "cell_type": "markdown",
   "id": "2941cc2e",
   "metadata": {},
   "source": [
    "## **Create new price columns with MYR currency by using lambda function or function.**"
   ]
  },
  {
   "cell_type": "code",
   "execution_count": null,
   "id": "6c279bad",
   "metadata": {},
   "outputs": [],
   "source": [
    "#create new columns for price in MYR, exchange rate 1 UAH= 0.16 MYR\n",
    "phone[\"best_price_myr\"]= phone[\"best_price\"].apply(lambda x: round(x*0.16, 2))\n",
    "phone[\"lowest_price_myr\"]= phone[\"lowest_price\"].apply(lambda x: round(x*0.16, 2))\n",
    "phone[\"highest_price_myr\"]= phone[\"highest_price\"].apply(lambda x: round(x*0.16, 2))"
   ]
  },
  {
   "cell_type": "code",
   "execution_count": null,
   "id": "ca41bd0a",
   "metadata": {},
   "outputs": [],
   "source": [
    "phone[\"best_price_myr\"]"
   ]
  },
  {
   "cell_type": "code",
   "execution_count": null,
   "id": "7884b89d",
   "metadata": {
    "scrolled": true
   },
   "outputs": [],
   "source": [
    "phone.head(5)"
   ]
  },
  {
   "cell_type": "markdown",
   "id": "6817a301",
   "metadata": {},
   "source": [
    "## Build a class which consist both functions:\n",
    "\n",
    "**1. user input function to display diagram from above cells**\n",
    "\n",
    "**2. user input function to let the user know the minimum budget they should have for specific phone brand**"
   ]
  },
  {
   "cell_type": "code",
   "execution_count": null,
   "id": "f27a0a36",
   "metadata": {},
   "outputs": [],
   "source": [
    "#calculate the mean of best price for each phone brand\n",
    "round(phone.groupby([\"brand_name\"])[\"best_price_myr\"].mean(),2)"
   ]
  },
  {
   "cell_type": "code",
   "execution_count": null,
   "id": "6d27bb0e",
   "metadata": {},
   "outputs": [],
   "source": [
    "#change the result of above cells into a dictionary\n",
    "brand_budget = dict(round(phone.groupby([\"brand_name\"])[\"best_price_myr\"].mean(),2))\n",
    "brand_budget"
   ]
  },
  {
   "cell_type": "code",
   "execution_count": null,
   "id": "dcf6c7bc",
   "metadata": {},
   "outputs": [],
   "source": [
    "class Phone_Data(object):\n",
    "      \n",
    "    def __init__(self):\n",
    "        self\n",
    "        \n",
    "    #build a function to show the diagrams from above cells     \n",
    "    def phone_diagram(self):\n",
    "        command= input(\"Please enter:\" \n",
    "                       \"\\n 1 for Histogram \"\n",
    "                      \"\\n 2 for Pie chart \"\n",
    "                      \"\\n 3 for Scatter plot \\n\")\n",
    "        \n",
    "        if command == \"1\":\n",
    "            plt.title(\"The Number of Phones Release For Each Year (2013-2021)\")\n",
    "            plt.hist(phone[\"release_date\"])\n",
    "            \n",
    "        elif command == \"2\":\n",
    "            plt.title(\"Phones' OS Distribution\")\n",
    "            plt.pie([Android, iOS, Other_OS],\n",
    "                   labels=(\"Android\", \"iOS\", \"Other\"),\n",
    "                   autopct= \"%.2f%%\",\n",
    "                   counterclock=False,\n",
    "                   explode=(0.2,0,0))\n",
    "            \n",
    "        elif command == \"3\":\n",
    "            plt.title(\"Relationship between Popularity with Number of \"\n",
    "                      \"Phone Sellers\")\n",
    "            plt.scatter(x=phone[\"popularity\"], y=phone[\"sellers_amount\"])\n",
    "            \n",
    "        else:\n",
    "            print(\"Please enter a valid option as provided above.\")\n",
    "        \n",
    "    \n",
    "    #a function to let user choose the brand and return the budget(calculate from \n",
    "    #mean phone[best_price_myr]) they may need to have for buying phone of that brand\n",
    "    def phone_budget(self, brand_budget):\n",
    "        self.brand_budget = brand_budget\n",
    "        budget = input(\"Please input the number correspond to the brand of phone you targeted: \"\n",
    "                      \"\\n 1 for Apple \"\n",
    "                      \"\\n 2 for Samsung \"\n",
    "                      \"\\n 3 for Realme\"\n",
    "                      \"\\n 4 for Asus\"\n",
    "                      \"\\n 5 for Lenovo\"\n",
    "                      \"\\n 6 for Google \\n\")\n",
    "        \n",
    "        if budget == \"1\":\n",
    "            brand=\"Apple\"\n",
    "\n",
    "        elif budget == \"2\":\n",
    "            brand=\"Samsung\"\n",
    "           \n",
    "        elif budget == \"3\":\n",
    "            brand=\"realme\"\n",
    "            \n",
    "        elif budget == \"4\":\n",
    "            brand=\"ASUS\"\n",
    "           \n",
    "        elif budget == \"5\":\n",
    "            brand=\"Lenovo\"\n",
    "           \n",
    "        elif budget == \"6\":\n",
    "            brand=\"Google\"\n",
    "            \n",
    "        else:\n",
    "            print(\"Please enter a valid option as provided above.\")\n",
    "            \n",
    "        if brand in brand_budget:\n",
    "            print(f\"You should have minimum RM {brand_budget.get(brand)} budget for {brand} brand mobile phone.\")"
   ]
  },
  {
   "cell_type": "code",
   "execution_count": null,
   "id": "29fa8d02",
   "metadata": {},
   "outputs": [],
   "source": [
    "data = Phone_Data()"
   ]
  },
  {
   "cell_type": "code",
   "execution_count": null,
   "id": "abe3c83d",
   "metadata": {},
   "outputs": [],
   "source": [
    "data.phone_diagram()"
   ]
  },
  {
   "cell_type": "code",
   "execution_count": null,
   "id": "d101dd30",
   "metadata": {},
   "outputs": [],
   "source": [
    "data.phone_budget(brand_budget)"
   ]
  },
  {
   "cell_type": "markdown",
   "id": "a922cfa5",
   "metadata": {},
   "source": [
    "That is all. Thank you."
   ]
  }
 ],
 "metadata": {
  "kernelspec": {
   "display_name": "Python 3",
   "language": "python",
   "name": "python3"
  },
  "language_info": {
   "codemirror_mode": {
    "name": "ipython",
    "version": 3
   },
   "file_extension": ".py",
   "mimetype": "text/x-python",
   "name": "python",
   "nbconvert_exporter": "python",
   "pygments_lexer": "ipython3",
   "version": "3.8.8"
  }
 },
 "nbformat": 4,
 "nbformat_minor": 5
}
